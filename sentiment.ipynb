{
 "cells": [
  {
   "cell_type": "markdown",
   "metadata": {},
   "source": [
    "**NBA Finals 2022 Public Sentiment Via Twitter**\n",
    "\n",
    "*inspired by Ingried Chen https://deepnote.com/workspace/ingridchien-808582f2-246e-43c1-8f01-b7edcdc9cdd6/project/CovidVaccine-Sentiment-and-Trends-of-Worldwide-Vaccine-Tweets-69d5b63d-d232-4491-8850-712a7361114b/%2Fnotebook.ipynb*\n",
    "\n",
    "The NBA Finals are currently underway, and have driven a lot of hype around the potential return to power of the Warriors dynasty versus a young, talented, and hungry Boston squad. \n",
    "Whether you are a fan of either team, or a fan of a team who is currently watching from Cancun, have you ever wondered how your opinion compares to that of others? \n",
    "Using textblob, we can better understand public sentiment on this ongoing series.        "
   ]
  },
  {
   "cell_type": "markdown",
   "metadata": {},
   "source": [
    "**Import Libraries**"
   ]
  },
  {
   "cell_type": "code",
   "execution_count": 1,
   "metadata": {},
   "outputs": [],
   "source": [
    "import pandas as pd\n",
    "import seaborn as sns\n",
    "import matplotlib.pyplot as plt\n",
    "import re\n",
    "from textblob import TextBlob"
   ]
  },
  {
   "cell_type": "markdown",
   "metadata": {},
   "source": [
    "**Read, Clean, and Preview Our Data**"
   ]
  },
  {
   "cell_type": "code",
   "execution_count": 2,
   "metadata": {},
   "outputs": [
    {
     "name": "stdout",
     "output_type": "stream",
     "text": [
      "Index(['Date', 'Location', 'User', 'Tweet'], dtype='object')                         Date Location             User  \\\n",
      "0  2022-06-05 22:16:47+00:00      NaN    RoseSportsPod   \n",
      "1  2022-06-05 22:16:19+00:00      NaN      davemcswain   \n",
      "2  2022-06-05 22:15:25+00:00      NaN      CCSports305   \n",
      "3  2022-06-05 22:14:20+00:00      NaN      nickvaughn1   \n",
      "4  2022-06-05 22:11:23+00:00      NaN  marcelinhofella   \n",
      "5  2022-06-05 22:11:14+00:00      NaN       borocapper   \n",
      "\n",
      "                                               Tweet  \n",
      "0  Warriors Andre Iguodala is out for Game 2 vs. ...  \n",
      "1  Draymond said golden state dominated the first...  \n",
      "2  Warriors+Over (214 pts)\\n$MCP305 &lt;---donate...  \n",
      "3  If we win tonight issa wrap.. #AllAbout18  #Ce...  \n",
      "4  Logo! Celtics! ☘️☘️💚💚💪💪💪🙏🙏🙌\\n\\n #NBAnaESPN #NB...  \n",
      "5  Sunday \\n#NBAFinals \\nWarriors -4.5\\n\\nJordan ...  \n"
     ]
    }
   ],
   "source": [
    "tweets = pd.read_csv('tweets/tweets.csv')\n",
    "tweets.drop(columns='Unnamed: 0', inplace=True, axis=1)\n",
    "print(tweets.columns, tweets.head(6))"
   ]
  },
  {
   "cell_type": "markdown",
   "metadata": {},
   "source": [
    "Let's see how many tweets we have compiled in our dataset"
   ]
  },
  {
   "cell_type": "code",
   "execution_count": 3,
   "metadata": {},
   "outputs": [
    {
     "data": {
      "text/plain": [
       "(1000, 4)"
      ]
     },
     "execution_count": 3,
     "metadata": {},
     "output_type": "execute_result"
    }
   ],
   "source": [
    "tweets.shape"
   ]
  },
  {
   "cell_type": "markdown",
   "metadata": {},
   "source": [
    "**Exploratory Analysis**\n",
    "\n",
    "Let's also see when the most popular time to tweet is. The current dataset was scraped hours before game 2 of the NBA Finals, so my hypothesis is that right before/after/during the games will be when people tweet the most because they are in a very volatile and reactionary mood. \n",
    "\n",
    "Today is 6/5, so most tweets will be from 6/5. Another variable to take into account is if an event has just happened, your tweets may all be sorted by recent postings."
   ]
  },
  {
   "cell_type": "code",
   "execution_count": 4,
   "metadata": {},
   "outputs": [
    {
     "data": {
      "text/html": [
       "<div>\n",
       "<style scoped>\n",
       "    .dataframe tbody tr th:only-of-type {\n",
       "        vertical-align: middle;\n",
       "    }\n",
       "\n",
       "    .dataframe tbody tr th {\n",
       "        vertical-align: top;\n",
       "    }\n",
       "\n",
       "    .dataframe thead th {\n",
       "        text-align: right;\n",
       "    }\n",
       "</style>\n",
       "<table border=\"1\" class=\"dataframe\">\n",
       "  <thead>\n",
       "    <tr style=\"text-align: right;\">\n",
       "      <th></th>\n",
       "      <th>Date</th>\n",
       "      <th>count</th>\n",
       "    </tr>\n",
       "  </thead>\n",
       "  <tbody>\n",
       "    <tr>\n",
       "      <th>536</th>\n",
       "      <td>2022-06-05 07:20:37+00:00</td>\n",
       "      <td>3</td>\n",
       "    </tr>\n",
       "    <tr>\n",
       "      <th>537</th>\n",
       "      <td>2022-06-05 07:20:38+00:00</td>\n",
       "      <td>3</td>\n",
       "    </tr>\n",
       "    <tr>\n",
       "      <th>979</th>\n",
       "      <td>2022-06-05 22:04:15+00:00</td>\n",
       "      <td>2</td>\n",
       "    </tr>\n",
       "    <tr>\n",
       "      <th>511</th>\n",
       "      <td>2022-06-05 04:29:36+00:00</td>\n",
       "      <td>2</td>\n",
       "    </tr>\n",
       "    <tr>\n",
       "      <th>0</th>\n",
       "      <td>2022-06-03 17:26:18+00:00</td>\n",
       "      <td>1</td>\n",
       "    </tr>\n",
       "    <tr>\n",
       "      <th>663</th>\n",
       "      <td>2022-06-05 14:30:15+00:00</td>\n",
       "      <td>1</td>\n",
       "    </tr>\n",
       "    <tr>\n",
       "      <th>666</th>\n",
       "      <td>2022-06-05 14:36:57+00:00</td>\n",
       "      <td>1</td>\n",
       "    </tr>\n",
       "    <tr>\n",
       "      <th>665</th>\n",
       "      <td>2022-06-05 14:34:06+00:00</td>\n",
       "      <td>1</td>\n",
       "    </tr>\n",
       "    <tr>\n",
       "      <th>664</th>\n",
       "      <td>2022-06-05 14:33:10+00:00</td>\n",
       "      <td>1</td>\n",
       "    </tr>\n",
       "    <tr>\n",
       "      <th>661</th>\n",
       "      <td>2022-06-05 14:29:12+00:00</td>\n",
       "      <td>1</td>\n",
       "    </tr>\n",
       "  </tbody>\n",
       "</table>\n",
       "</div>"
      ],
      "text/plain": [
       "                          Date  count\n",
       "536  2022-06-05 07:20:37+00:00      3\n",
       "537  2022-06-05 07:20:38+00:00      3\n",
       "979  2022-06-05 22:04:15+00:00      2\n",
       "511  2022-06-05 04:29:36+00:00      2\n",
       "0    2022-06-03 17:26:18+00:00      1\n",
       "663  2022-06-05 14:30:15+00:00      1\n",
       "666  2022-06-05 14:36:57+00:00      1\n",
       "665  2022-06-05 14:34:06+00:00      1\n",
       "664  2022-06-05 14:33:10+00:00      1\n",
       "661  2022-06-05 14:29:12+00:00      1"
      ]
     },
     "execution_count": 4,
     "metadata": {},
     "output_type": "execute_result"
    }
   ],
   "source": [
    "count = tweets.groupby('Date').size().to_frame().reset_index().rename(columns = {0:'count'})\n",
    "most_frequent_times = count.sort_values(by='count', ascending=False).head(10)\n",
    "most_frequent_times.head(20)"
   ]
  },
  {
   "cell_type": "markdown",
   "metadata": {},
   "source": [
    "**Preparing Tweets for Analysis**"
   ]
  },
  {
   "cell_type": "code",
   "execution_count": 5,
   "metadata": {},
   "outputs": [],
   "source": [
    "# initialize var for tweets column in df\n",
    "Tweet = 'Tweet'"
   ]
  },
  {
   "cell_type": "markdown",
   "metadata": {},
   "source": [
    "*prepare_tweets_for_sentiment_analysis* is a function that will prepare our dataframe into one that can be easily read and purposed for textblob. We will drop any empty tweets, and remove any non-alphanumeric characters which can limit the amount of 'bot' tweets that we encounter."
   ]
  },
  {
   "cell_type": "code",
   "execution_count": 6,
   "metadata": {},
   "outputs": [],
   "source": [
    "def prepare_tweets_for_sentiment_analysis(tweets):\n",
    "    # dropping empty tweets (if any)\n",
    "    tweets[Tweet] = tweets[Tweet].apply(lambda tweet: str(tweet)).dropna()\n",
    "    # dropping characters not in A-Z, 0-9, (alphanumeric)\n",
    "    punctuations = r'[^a-zA-Z0-9]'\n",
    "    tweets[Tweet] = tweets[Tweet].apply(lambda tweet: re.sub(punctuations, \" \", tweet))\n",
    "    return tweets"
   ]
  },
  {
   "cell_type": "code",
   "execution_count": 7,
   "metadata": {},
   "outputs": [
    {
     "data": {
      "text/plain": [
       "0    Warriors Andre Iguodala is out for Game 2 vs  ...\n",
       "1    Draymond said golden state dominated the first...\n",
       "2    Warriors Over  214 pts   MCP305  lt    donate ...\n",
       "3    If we win tonight issa wrap    AllAbout18   Ce...\n",
       "4    Logo  Celtics                  NBAnaESPN  NBAF...\n",
       "5    Sunday   NBAFinals  Warriors  4 5  Jordan Pool...\n",
       "Name: Tweet, dtype: object"
      ]
     },
     "execution_count": 7,
     "metadata": {},
     "output_type": "execute_result"
    }
   ],
   "source": [
    "prepare_tweets_for_sentiment_analysis(tweets)\n",
    "tweets['Tweet'].head(6)"
   ]
  },
  {
   "cell_type": "markdown",
   "metadata": {},
   "source": [
    "**Sentiment Analysis**\n",
    "\n",
    "I would like to thank Ingrid Chien for her similar project linked at the top. If it was not for her work, I would not have been exposed to TextBlob (at least I do not think I would have until I took an NLP class of some sort).\n",
    "\n",
    "To conduct sentiment analysis, we will use .polarity() to assign polarity scores to each tweet. Then we will visualize the overall polarity of the dataset. This will help us determine if fans are generally positively or negatively reacting to the NBA Finals.\n",
    "\n",
    "If we wanted to conduct sentiment analysis for each team, say on the winner and/or loser of that night, we could scrape another dataset that only includes tweets related to one team. This would mean just changing the query to exclude whichever team we would not focus on. "
   ]
  },
  {
   "cell_type": "markdown",
   "metadata": {},
   "source": [
    "**Negative Sentiment**\n",
    "\n",
    "*'Negative'* words, their frequency, and lack of *'positive'* words will influence polarity:"
   ]
  },
  {
   "cell_type": "code",
   "execution_count": 8,
   "metadata": {},
   "outputs": [
    {
     "data": {
      "text/plain": [
       "-1.0"
      ]
     },
     "execution_count": 8,
     "metadata": {},
     "output_type": "execute_result"
    }
   ],
   "source": [
    "# negative sentiment represented by negative score\n",
    "negative = TextBlob('Klay thompson is so bad bro. How do you shoot 4/19 as a splash brother?!!!').sentiment.polarity\n",
    "negative"
   ]
  },
  {
   "cell_type": "markdown",
   "metadata": {},
   "source": [
    "**Positive Sentiment**\n",
    "\n",
    "Vice versa for opposite case:"
   ]
  },
  {
   "cell_type": "code",
   "execution_count": 9,
   "metadata": {},
   "outputs": [
    {
     "data": {
      "text/plain": [
       "0.4"
      ]
     },
     "execution_count": 9,
     "metadata": {},
     "output_type": "execute_result"
    }
   ],
   "source": [
    "# Positive sentiment represented by positive score\n",
    "positive = TextBlob('The Celtics are not shooting like that again. I have faith in our warriors that they will win the next 3 games!').sentiment.polarity\n",
    "positive"
   ]
  },
  {
   "cell_type": "markdown",
   "metadata": {},
   "source": [
    "**Compiling Sentiment**\n",
    "\n",
    "As an example we can write a function that will append sentiments to an array and then compute statistical analysis for it using numpy. "
   ]
  },
  {
   "cell_type": "code",
   "execution_count": 10,
   "metadata": {},
   "outputs": [],
   "source": [
    "import numpy as np"
   ]
  },
  {
   "cell_type": "code",
   "execution_count": 11,
   "metadata": {},
   "outputs": [],
   "source": [
    "def textBlob(sample_texts):\n",
    "    sample_texts = sample_texts.apply(lambda x:TextBlob(x).sentiment.polarity).values\n",
    "    return print(sample_texts)"
   ]
  },
  {
   "cell_type": "code",
   "execution_count": 12,
   "metadata": {},
   "outputs": [],
   "source": [
    "def compile_sentiment(sample_texts, sample_sentiment):\n",
    "    sample_sentiment = (np.mean(sample_texts), np.std(sample_texts))\n",
    "    return print('Mean, Standard Deviation: \\n', sample_sentiment)\n"
   ]
  },
  {
   "cell_type": "code",
   "execution_count": 13,
   "metadata": {},
   "outputs": [
    {
     "ename": "TypeError",
     "evalue": "The `text` argument passed to `__init__(text)` must be a string, not <class 'pandas.core.series.Series'>",
     "output_type": "error",
     "traceback": [
      "\u001b[0;31m---------------------------------------------------------------------------\u001b[0m",
      "\u001b[0;31mTypeError\u001b[0m                                 Traceback (most recent call last)",
      "\u001b[1;32m/home/nateackerman/projects/NBA/Finals-Sentiment/sentiment.ipynb Cell 24'\u001b[0m in \u001b[0;36m<cell line: 6>\u001b[0;34m()\u001b[0m\n\u001b[1;32m      <a href='vscode-notebook-cell://wsl%2Bubuntu-20.04/home/nateackerman/projects/NBA/Finals-Sentiment/sentiment.ipynb#ch0000023vscode-remote?line=3'>4</a>\u001b[0m sample_texts\n\u001b[1;32m      <a href='vscode-notebook-cell://wsl%2Bubuntu-20.04/home/nateackerman/projects/NBA/Finals-Sentiment/sentiment.ipynb#ch0000023vscode-remote?line=4'>5</a>\u001b[0m sample_sentiment \u001b[39m=\u001b[39m (\u001b[39m0\u001b[39m, \u001b[39m0\u001b[39m)\n\u001b[0;32m----> <a href='vscode-notebook-cell://wsl%2Bubuntu-20.04/home/nateackerman/projects/NBA/Finals-Sentiment/sentiment.ipynb#ch0000023vscode-remote?line=5'>6</a>\u001b[0m textBlob(sample_texts)\n\u001b[1;32m      <a href='vscode-notebook-cell://wsl%2Bubuntu-20.04/home/nateackerman/projects/NBA/Finals-Sentiment/sentiment.ipynb#ch0000023vscode-remote?line=6'>7</a>\u001b[0m compile_sentiment(sample_texts, sample_sentiment)\n",
      "\u001b[1;32m/home/nateackerman/projects/NBA/Finals-Sentiment/sentiment.ipynb Cell 22'\u001b[0m in \u001b[0;36mtextBlob\u001b[0;34m(sample_texts)\u001b[0m\n\u001b[1;32m      <a href='vscode-notebook-cell://wsl%2Bubuntu-20.04/home/nateackerman/projects/NBA/Finals-Sentiment/sentiment.ipynb#ch0000021vscode-remote?line=0'>1</a>\u001b[0m \u001b[39mdef\u001b[39;00m \u001b[39mtextBlob\u001b[39m(sample_texts):\n\u001b[0;32m----> <a href='vscode-notebook-cell://wsl%2Bubuntu-20.04/home/nateackerman/projects/NBA/Finals-Sentiment/sentiment.ipynb#ch0000021vscode-remote?line=1'>2</a>\u001b[0m     sample_texts \u001b[39m=\u001b[39m sample_texts\u001b[39m.\u001b[39;49mapply(\u001b[39mlambda\u001b[39;49;00m x:TextBlob(x)\u001b[39m.\u001b[39;49msentiment\u001b[39m.\u001b[39;49mpolarity)\u001b[39m.\u001b[39mvalues\n\u001b[1;32m      <a href='vscode-notebook-cell://wsl%2Bubuntu-20.04/home/nateackerman/projects/NBA/Finals-Sentiment/sentiment.ipynb#ch0000021vscode-remote?line=2'>3</a>\u001b[0m     \u001b[39mreturn\u001b[39;00m \u001b[39mprint\u001b[39m(sample_texts)\n",
      "File \u001b[0;32m~/.local/lib/python3.8/site-packages/pandas/core/frame.py:7765\u001b[0m, in \u001b[0;36mDataFrame.apply\u001b[0;34m(self, func, axis, raw, result_type, args, **kwds)\u001b[0m\n\u001b[1;32m   <a href='file:///home/nateackerman/.local/lib/python3.8/site-packages/pandas/core/frame.py?line=7753'>7754</a>\u001b[0m \u001b[39mfrom\u001b[39;00m \u001b[39mpandas\u001b[39;00m\u001b[39m.\u001b[39;00m\u001b[39mcore\u001b[39;00m\u001b[39m.\u001b[39;00m\u001b[39mapply\u001b[39;00m \u001b[39mimport\u001b[39;00m frame_apply\n\u001b[1;32m   <a href='file:///home/nateackerman/.local/lib/python3.8/site-packages/pandas/core/frame.py?line=7755'>7756</a>\u001b[0m op \u001b[39m=\u001b[39m frame_apply(\n\u001b[1;32m   <a href='file:///home/nateackerman/.local/lib/python3.8/site-packages/pandas/core/frame.py?line=7756'>7757</a>\u001b[0m     \u001b[39mself\u001b[39m,\n\u001b[1;32m   <a href='file:///home/nateackerman/.local/lib/python3.8/site-packages/pandas/core/frame.py?line=7757'>7758</a>\u001b[0m     func\u001b[39m=\u001b[39mfunc,\n\u001b[0;32m   (...)\u001b[0m\n\u001b[1;32m   <a href='file:///home/nateackerman/.local/lib/python3.8/site-packages/pandas/core/frame.py?line=7762'>7763</a>\u001b[0m     kwds\u001b[39m=\u001b[39mkwds,\n\u001b[1;32m   <a href='file:///home/nateackerman/.local/lib/python3.8/site-packages/pandas/core/frame.py?line=7763'>7764</a>\u001b[0m )\n\u001b[0;32m-> <a href='file:///home/nateackerman/.local/lib/python3.8/site-packages/pandas/core/frame.py?line=7764'>7765</a>\u001b[0m \u001b[39mreturn\u001b[39;00m op\u001b[39m.\u001b[39;49mget_result()\n",
      "File \u001b[0;32m~/.local/lib/python3.8/site-packages/pandas/core/apply.py:185\u001b[0m, in \u001b[0;36mFrameApply.get_result\u001b[0;34m(self)\u001b[0m\n\u001b[1;32m    <a href='file:///home/nateackerman/.local/lib/python3.8/site-packages/pandas/core/apply.py?line=181'>182</a>\u001b[0m \u001b[39melif\u001b[39;00m \u001b[39mself\u001b[39m\u001b[39m.\u001b[39mraw:\n\u001b[1;32m    <a href='file:///home/nateackerman/.local/lib/python3.8/site-packages/pandas/core/apply.py?line=182'>183</a>\u001b[0m     \u001b[39mreturn\u001b[39;00m \u001b[39mself\u001b[39m\u001b[39m.\u001b[39mapply_raw()\n\u001b[0;32m--> <a href='file:///home/nateackerman/.local/lib/python3.8/site-packages/pandas/core/apply.py?line=184'>185</a>\u001b[0m \u001b[39mreturn\u001b[39;00m \u001b[39mself\u001b[39;49m\u001b[39m.\u001b[39;49mapply_standard()\n",
      "File \u001b[0;32m~/.local/lib/python3.8/site-packages/pandas/core/apply.py:276\u001b[0m, in \u001b[0;36mFrameApply.apply_standard\u001b[0;34m(self)\u001b[0m\n\u001b[1;32m    <a href='file:///home/nateackerman/.local/lib/python3.8/site-packages/pandas/core/apply.py?line=274'>275</a>\u001b[0m \u001b[39mdef\u001b[39;00m \u001b[39mapply_standard\u001b[39m(\u001b[39mself\u001b[39m):\n\u001b[0;32m--> <a href='file:///home/nateackerman/.local/lib/python3.8/site-packages/pandas/core/apply.py?line=275'>276</a>\u001b[0m     results, res_index \u001b[39m=\u001b[39m \u001b[39mself\u001b[39;49m\u001b[39m.\u001b[39;49mapply_series_generator()\n\u001b[1;32m    <a href='file:///home/nateackerman/.local/lib/python3.8/site-packages/pandas/core/apply.py?line=277'>278</a>\u001b[0m     \u001b[39m# wrap results\u001b[39;00m\n\u001b[1;32m    <a href='file:///home/nateackerman/.local/lib/python3.8/site-packages/pandas/core/apply.py?line=278'>279</a>\u001b[0m     \u001b[39mreturn\u001b[39;00m \u001b[39mself\u001b[39m\u001b[39m.\u001b[39mwrap_results(results, res_index)\n",
      "File \u001b[0;32m~/.local/lib/python3.8/site-packages/pandas/core/apply.py:290\u001b[0m, in \u001b[0;36mFrameApply.apply_series_generator\u001b[0;34m(self)\u001b[0m\n\u001b[1;32m    <a href='file:///home/nateackerman/.local/lib/python3.8/site-packages/pandas/core/apply.py?line=286'>287</a>\u001b[0m \u001b[39mwith\u001b[39;00m option_context(\u001b[39m\"\u001b[39m\u001b[39mmode.chained_assignment\u001b[39m\u001b[39m\"\u001b[39m, \u001b[39mNone\u001b[39;00m):\n\u001b[1;32m    <a href='file:///home/nateackerman/.local/lib/python3.8/site-packages/pandas/core/apply.py?line=287'>288</a>\u001b[0m     \u001b[39mfor\u001b[39;00m i, v \u001b[39min\u001b[39;00m \u001b[39menumerate\u001b[39m(series_gen):\n\u001b[1;32m    <a href='file:///home/nateackerman/.local/lib/python3.8/site-packages/pandas/core/apply.py?line=288'>289</a>\u001b[0m         \u001b[39m# ignore SettingWithCopy here in case the user mutates\u001b[39;00m\n\u001b[0;32m--> <a href='file:///home/nateackerman/.local/lib/python3.8/site-packages/pandas/core/apply.py?line=289'>290</a>\u001b[0m         results[i] \u001b[39m=\u001b[39m \u001b[39mself\u001b[39;49m\u001b[39m.\u001b[39;49mf(v)\n\u001b[1;32m    <a href='file:///home/nateackerman/.local/lib/python3.8/site-packages/pandas/core/apply.py?line=290'>291</a>\u001b[0m         \u001b[39mif\u001b[39;00m \u001b[39misinstance\u001b[39m(results[i], ABCSeries):\n\u001b[1;32m    <a href='file:///home/nateackerman/.local/lib/python3.8/site-packages/pandas/core/apply.py?line=291'>292</a>\u001b[0m             \u001b[39m# If we have a view on v, we need to make a copy because\u001b[39;00m\n\u001b[1;32m    <a href='file:///home/nateackerman/.local/lib/python3.8/site-packages/pandas/core/apply.py?line=292'>293</a>\u001b[0m             \u001b[39m#  series_generator will swap out the underlying data\u001b[39;00m\n\u001b[1;32m    <a href='file:///home/nateackerman/.local/lib/python3.8/site-packages/pandas/core/apply.py?line=293'>294</a>\u001b[0m             results[i] \u001b[39m=\u001b[39m results[i]\u001b[39m.\u001b[39mcopy(deep\u001b[39m=\u001b[39m\u001b[39mFalse\u001b[39;00m)\n",
      "\u001b[1;32m/home/nateackerman/projects/NBA/Finals-Sentiment/sentiment.ipynb Cell 22'\u001b[0m in \u001b[0;36mtextBlob.<locals>.<lambda>\u001b[0;34m(x)\u001b[0m\n\u001b[1;32m      <a href='vscode-notebook-cell://wsl%2Bubuntu-20.04/home/nateackerman/projects/NBA/Finals-Sentiment/sentiment.ipynb#ch0000021vscode-remote?line=0'>1</a>\u001b[0m \u001b[39mdef\u001b[39;00m \u001b[39mtextBlob\u001b[39m(sample_texts):\n\u001b[0;32m----> <a href='vscode-notebook-cell://wsl%2Bubuntu-20.04/home/nateackerman/projects/NBA/Finals-Sentiment/sentiment.ipynb#ch0000021vscode-remote?line=1'>2</a>\u001b[0m     sample_texts \u001b[39m=\u001b[39m sample_texts\u001b[39m.\u001b[39mapply(\u001b[39mlambda\u001b[39;00m x:TextBlob(x)\u001b[39m.\u001b[39msentiment\u001b[39m.\u001b[39mpolarity)\u001b[39m.\u001b[39mvalues\n\u001b[1;32m      <a href='vscode-notebook-cell://wsl%2Bubuntu-20.04/home/nateackerman/projects/NBA/Finals-Sentiment/sentiment.ipynb#ch0000021vscode-remote?line=2'>3</a>\u001b[0m     \u001b[39mreturn\u001b[39;00m \u001b[39mprint\u001b[39m(sample_texts)\n",
      "File \u001b[0;32m~/.local/lib/python3.8/site-packages/textblob/blob.py:384\u001b[0m, in \u001b[0;36mBaseBlob.__init__\u001b[0;34m(self, text, tokenizer, pos_tagger, np_extractor, analyzer, parser, classifier, clean_html)\u001b[0m\n\u001b[1;32m    <a href='file:///home/nateackerman/.local/lib/python3.8/site-packages/textblob/blob.py?line=379'>380</a>\u001b[0m \u001b[39mdef\u001b[39;00m \u001b[39m__init__\u001b[39m(\u001b[39mself\u001b[39m, text, tokenizer\u001b[39m=\u001b[39m\u001b[39mNone\u001b[39;00m,\n\u001b[1;32m    <a href='file:///home/nateackerman/.local/lib/python3.8/site-packages/textblob/blob.py?line=380'>381</a>\u001b[0m             pos_tagger\u001b[39m=\u001b[39m\u001b[39mNone\u001b[39;00m, np_extractor\u001b[39m=\u001b[39m\u001b[39mNone\u001b[39;00m, analyzer\u001b[39m=\u001b[39m\u001b[39mNone\u001b[39;00m,\n\u001b[1;32m    <a href='file:///home/nateackerman/.local/lib/python3.8/site-packages/textblob/blob.py?line=381'>382</a>\u001b[0m             parser\u001b[39m=\u001b[39m\u001b[39mNone\u001b[39;00m, classifier\u001b[39m=\u001b[39m\u001b[39mNone\u001b[39;00m, clean_html\u001b[39m=\u001b[39m\u001b[39mFalse\u001b[39;00m):\n\u001b[1;32m    <a href='file:///home/nateackerman/.local/lib/python3.8/site-packages/textblob/blob.py?line=382'>383</a>\u001b[0m     \u001b[39mif\u001b[39;00m \u001b[39mnot\u001b[39;00m \u001b[39misinstance\u001b[39m(text, basestring):\n\u001b[0;32m--> <a href='file:///home/nateackerman/.local/lib/python3.8/site-packages/textblob/blob.py?line=383'>384</a>\u001b[0m         \u001b[39mraise\u001b[39;00m \u001b[39mTypeError\u001b[39;00m(\u001b[39m'\u001b[39m\u001b[39mThe `text` argument passed to `__init__(text)` \u001b[39m\u001b[39m'\u001b[39m\n\u001b[1;32m    <a href='file:///home/nateackerman/.local/lib/python3.8/site-packages/textblob/blob.py?line=384'>385</a>\u001b[0m                         \u001b[39m'\u001b[39m\u001b[39mmust be a string, not \u001b[39m\u001b[39m{0}\u001b[39;00m\u001b[39m'\u001b[39m\u001b[39m.\u001b[39mformat(\u001b[39mtype\u001b[39m(text)))\n\u001b[1;32m    <a href='file:///home/nateackerman/.local/lib/python3.8/site-packages/textblob/blob.py?line=385'>386</a>\u001b[0m     \u001b[39mif\u001b[39;00m clean_html:\n\u001b[1;32m    <a href='file:///home/nateackerman/.local/lib/python3.8/site-packages/textblob/blob.py?line=386'>387</a>\u001b[0m         \u001b[39mraise\u001b[39;00m \u001b[39mNotImplementedError\u001b[39;00m(\u001b[39m\"\u001b[39m\u001b[39mclean_html has been deprecated. \u001b[39m\u001b[39m\"\u001b[39m\n\u001b[1;32m    <a href='file:///home/nateackerman/.local/lib/python3.8/site-packages/textblob/blob.py?line=387'>388</a>\u001b[0m                                 \u001b[39m\"\u001b[39m\u001b[39mTo remove HTML markup, use BeautifulSoup\u001b[39m\u001b[39m'\u001b[39m\u001b[39ms \u001b[39m\u001b[39m\"\u001b[39m\n\u001b[1;32m    <a href='file:///home/nateackerman/.local/lib/python3.8/site-packages/textblob/blob.py?line=388'>389</a>\u001b[0m                                 \u001b[39m\"\u001b[39m\u001b[39mget_text() function\u001b[39m\u001b[39m\"\u001b[39m)\n",
      "\u001b[0;31mTypeError\u001b[0m: The `text` argument passed to `__init__(text)` must be a string, not <class 'pandas.core.series.Series'>"
     ]
    }
   ],
   "source": [
    "sample_texts = pd.DataFrame(['The Celtics are not shooting like that again. I have faith in our warriors that they will win the next 3 games!', \n",
    "'Celtics are horrible', 'Celtics got destroyed by Kobe', 'Celtics going to lose again', 'Warriors going to win this year!', 'Golden state is so much better', 'Steph curry is the best shooter, they will win', 'Klay thompson is in a shooting slump. He will not recover'\n",
    "])\n",
    "sample_texts\n",
    "sample_sentiment = (0, 0)\n",
    "textBlob(sample_texts)\n",
    "compile_sentiment(sample_texts, sample_sentiment)"
   ]
  }
 ],
 "metadata": {
  "interpreter": {
   "hash": "916dbcbb3f70747c44a77c7bcd40155683ae19c65e1c03b4aa3499c5328201f1"
  },
  "kernelspec": {
   "display_name": "Python 3.8.5 64-bit",
   "language": "python",
   "name": "python3"
  },
  "language_info": {
   "codemirror_mode": {
    "name": "ipython",
    "version": 3
   },
   "file_extension": ".py",
   "mimetype": "text/x-python",
   "name": "python",
   "nbconvert_exporter": "python",
   "pygments_lexer": "ipython3",
   "version": "3.8.5"
  },
  "orig_nbformat": 4
 },
 "nbformat": 4,
 "nbformat_minor": 2
}
