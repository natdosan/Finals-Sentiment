{
 "cells": [
  {
   "cell_type": "markdown",
   "metadata": {},
   "source": [
    "**NBA Finals 2022 Public Sentiment Via Twitter**\n",
    "\n",
    "*inspired by Ingried Chen https://deepnote.com/workspace/ingridchien-808582f2-246e-43c1-8f01-b7edcdc9cdd6/project/CovidVaccine-Sentiment-and-Trends-of-Worldwide-Vaccine-Tweets-69d5b63d-d232-4491-8850-712a7361114b/%2Fnotebook.ipynb*\n",
    "\n",
    "The NBA Finals are currently underway, and have driven a lot of hype around the potential return to power of the Warriors dynasty versus a young, talented, and hungry Boston squad. \n",
    "Whether you are a fan of either team, or a fan of a team who is currently watching from Cancun, have you ever wondered how your opinion compares to that of others? \n",
    "Using textblob, we can better understand public sentiment on this ongoing series.        \n",
    "\n",
    "Update: It is June 17th, 2022, and the Warriors have won the 2022 NBA Championship! Go Dubs!"
   ]
  },
  {
   "cell_type": "markdown",
   "metadata": {},
   "source": [
    "**Import Libraries**"
   ]
  },
  {
   "cell_type": "code",
   "execution_count": 21,
   "metadata": {},
   "outputs": [],
   "source": [
    "import pandas as pd\n",
    "import seaborn as sns\n",
    "import matplotlib.pyplot as plt\n",
    "import re\n",
    "from textblob import TextBlob"
   ]
  },
  {
   "cell_type": "markdown",
   "metadata": {},
   "source": [
    "**Read, Clean, and Preview Our Data**"
   ]
  },
  {
   "cell_type": "code",
   "execution_count": 22,
   "metadata": {},
   "outputs": [
    {
     "name": "stdout",
     "output_type": "stream",
     "text": [
      "Index(['Date', 'Location', 'User', 'Tweet'], dtype='object')                         Date Location             User  \\\n",
      "0  2022-06-05 22:16:47+00:00      NaN    RoseSportsPod   \n",
      "1  2022-06-05 22:16:19+00:00      NaN      davemcswain   \n",
      "2  2022-06-05 22:15:25+00:00      NaN      CCSports305   \n",
      "3  2022-06-05 22:14:20+00:00      NaN      nickvaughn1   \n",
      "4  2022-06-05 22:11:23+00:00      NaN  marcelinhofella   \n",
      "5  2022-06-05 22:11:14+00:00      NaN       borocapper   \n",
      "\n",
      "                                               Tweet  \n",
      "0  Warriors Andre Iguodala is out for Game 2 vs. ...  \n",
      "1  Draymond said golden state dominated the first...  \n",
      "2  Warriors+Over (214 pts)\\n$MCP305 &lt;---donate...  \n",
      "3  If we win tonight issa wrap.. #AllAbout18  #Ce...  \n",
      "4  Logo! Celtics! ☘️☘️💚💚💪💪💪🙏🙏🙌\\n\\n #NBAnaESPN #NB...  \n",
      "5  Sunday \\n#NBAFinals \\nWarriors -4.5\\n\\nJordan ...  \n"
     ]
    }
   ],
   "source": [
    "tweets = pd.read_csv('tweets/tweets.csv')\n",
    "tweets.drop(columns='Unnamed: 0', inplace=True, axis=1)\n",
    "print(tweets.columns, tweets.head(6))"
   ]
  },
  {
   "cell_type": "markdown",
   "metadata": {},
   "source": [
    "Let's see how many tweets we have compiled in our dataset"
   ]
  },
  {
   "cell_type": "code",
   "execution_count": 23,
   "metadata": {},
   "outputs": [
    {
     "data": {
      "text/plain": [
       "(1000, 4)"
      ]
     },
     "execution_count": 23,
     "metadata": {},
     "output_type": "execute_result"
    }
   ],
   "source": [
    "tweets.shape"
   ]
  },
  {
   "cell_type": "markdown",
   "metadata": {},
   "source": [
    "**Exploratory Analysis**\n",
    "\n",
    "Let's also see when the most popular time to tweet is. The current dataset was scraped hours before game 2 of the NBA Finals, so my hypothesis is that right before/after/during the games will be when people tweet the most because they are in a very volatile and reactionary mood. \n",
    "\n",
    "Today is 6/5, so most tweets will be from 6/5. Another variable to take into account is if an event has just happened, your tweets may all be sorted by recent postings."
   ]
  },
  {
   "cell_type": "code",
   "execution_count": 24,
   "metadata": {},
   "outputs": [
    {
     "data": {
      "text/html": [
       "<div>\n",
       "<style scoped>\n",
       "    .dataframe tbody tr th:only-of-type {\n",
       "        vertical-align: middle;\n",
       "    }\n",
       "\n",
       "    .dataframe tbody tr th {\n",
       "        vertical-align: top;\n",
       "    }\n",
       "\n",
       "    .dataframe thead th {\n",
       "        text-align: right;\n",
       "    }\n",
       "</style>\n",
       "<table border=\"1\" class=\"dataframe\">\n",
       "  <thead>\n",
       "    <tr style=\"text-align: right;\">\n",
       "      <th></th>\n",
       "      <th>Date</th>\n",
       "      <th>count</th>\n",
       "    </tr>\n",
       "  </thead>\n",
       "  <tbody>\n",
       "    <tr>\n",
       "      <th>536</th>\n",
       "      <td>2022-06-05 07:20:37+00:00</td>\n",
       "      <td>3</td>\n",
       "    </tr>\n",
       "    <tr>\n",
       "      <th>537</th>\n",
       "      <td>2022-06-05 07:20:38+00:00</td>\n",
       "      <td>3</td>\n",
       "    </tr>\n",
       "    <tr>\n",
       "      <th>979</th>\n",
       "      <td>2022-06-05 22:04:15+00:00</td>\n",
       "      <td>2</td>\n",
       "    </tr>\n",
       "    <tr>\n",
       "      <th>511</th>\n",
       "      <td>2022-06-05 04:29:36+00:00</td>\n",
       "      <td>2</td>\n",
       "    </tr>\n",
       "    <tr>\n",
       "      <th>0</th>\n",
       "      <td>2022-06-03 17:26:18+00:00</td>\n",
       "      <td>1</td>\n",
       "    </tr>\n",
       "    <tr>\n",
       "      <th>663</th>\n",
       "      <td>2022-06-05 14:30:15+00:00</td>\n",
       "      <td>1</td>\n",
       "    </tr>\n",
       "    <tr>\n",
       "      <th>666</th>\n",
       "      <td>2022-06-05 14:36:57+00:00</td>\n",
       "      <td>1</td>\n",
       "    </tr>\n",
       "    <tr>\n",
       "      <th>665</th>\n",
       "      <td>2022-06-05 14:34:06+00:00</td>\n",
       "      <td>1</td>\n",
       "    </tr>\n",
       "    <tr>\n",
       "      <th>664</th>\n",
       "      <td>2022-06-05 14:33:10+00:00</td>\n",
       "      <td>1</td>\n",
       "    </tr>\n",
       "    <tr>\n",
       "      <th>661</th>\n",
       "      <td>2022-06-05 14:29:12+00:00</td>\n",
       "      <td>1</td>\n",
       "    </tr>\n",
       "  </tbody>\n",
       "</table>\n",
       "</div>"
      ],
      "text/plain": [
       "                          Date  count\n",
       "536  2022-06-05 07:20:37+00:00      3\n",
       "537  2022-06-05 07:20:38+00:00      3\n",
       "979  2022-06-05 22:04:15+00:00      2\n",
       "511  2022-06-05 04:29:36+00:00      2\n",
       "0    2022-06-03 17:26:18+00:00      1\n",
       "663  2022-06-05 14:30:15+00:00      1\n",
       "666  2022-06-05 14:36:57+00:00      1\n",
       "665  2022-06-05 14:34:06+00:00      1\n",
       "664  2022-06-05 14:33:10+00:00      1\n",
       "661  2022-06-05 14:29:12+00:00      1"
      ]
     },
     "execution_count": 24,
     "metadata": {},
     "output_type": "execute_result"
    }
   ],
   "source": [
    "count = tweets.groupby('Date').size().to_frame().reset_index().rename(columns = {0:'count'})\n",
    "most_frequent_times = count.sort_values(by='count', ascending=False).head(10)\n",
    "most_frequent_times.head(20)"
   ]
  },
  {
   "cell_type": "markdown",
   "metadata": {},
   "source": [
    "**Preparing Tweets for Analysis**"
   ]
  },
  {
   "cell_type": "code",
   "execution_count": 25,
   "metadata": {},
   "outputs": [],
   "source": [
    "# initialize var for tweets column in df\n",
    "Tweet = 'Tweet'"
   ]
  },
  {
   "cell_type": "markdown",
   "metadata": {},
   "source": [
    "*prepare_tweets_for_sentiment_analysis* is a function that will prepare our dataframe into one that can be easily read and purposed for textblob. We will drop any empty tweets, and remove any non-alphanumeric characters which can limit the amount of 'bot' tweets that we encounter."
   ]
  },
  {
   "cell_type": "code",
   "execution_count": 26,
   "metadata": {},
   "outputs": [],
   "source": [
    "def prepare_tweets_for_sentiment_analysis(tweets):\n",
    "    # dropping empty tweets (if any)\n",
    "    tweets[Tweet] = tweets[Tweet].apply(lambda tweet: str(tweet)).dropna()\n",
    "    # dropping characters not in A-Z, 0-9, (alphanumeric)\n",
    "    punctuations = r'[^a-zA-Z0-9]'\n",
    "    tweets[Tweet] = tweets[Tweet].apply(lambda tweet: re.sub(punctuations, \" \", tweet))\n",
    "    return tweets"
   ]
  },
  {
   "cell_type": "code",
   "execution_count": 27,
   "metadata": {},
   "outputs": [
    {
     "data": {
      "text/plain": [
       "0    Warriors Andre Iguodala is out for Game 2 vs  ...\n",
       "1    Draymond said golden state dominated the first...\n",
       "2    Warriors Over  214 pts   MCP305  lt    donate ...\n",
       "3    If we win tonight issa wrap    AllAbout18   Ce...\n",
       "4    Logo  Celtics                  NBAnaESPN  NBAF...\n",
       "5    Sunday   NBAFinals  Warriors  4 5  Jordan Pool...\n",
       "Name: Tweet, dtype: object"
      ]
     },
     "execution_count": 27,
     "metadata": {},
     "output_type": "execute_result"
    }
   ],
   "source": [
    "prepare_tweets_for_sentiment_analysis(tweets)\n",
    "tweets['Tweet'].head(6)"
   ]
  },
  {
   "cell_type": "markdown",
   "metadata": {},
   "source": [
    "**Sentiment Analysis**\n",
    "\n",
    "I would like to thank Ingrid Chien for her similar project linked at the top. If it was not for her work, I would not have been exposed to TextBlob (at least I do not think I would have until I took an NLP class of some sort).\n",
    "\n",
    "To conduct sentiment analysis, we will use .polarity() to assign polarity scores to each tweet. Then we will visualize the overall polarity of the dataset. This will help us determine if fans are generally positively or negatively reacting to the NBA Finals.\n",
    "\n",
    "If we wanted to conduct sentiment analysis for each team, say on the winner and/or loser of that night, we could scrape another dataset that only includes tweets related to one team. This would mean just changing the query to exclude whichever team we would not focus on. "
   ]
  },
  {
   "cell_type": "markdown",
   "metadata": {},
   "source": [
    "**Negative Sentiment**\n",
    "\n",
    "*'Negative'* words, their frequency, and lack of *'positive'* words will influence polarity:"
   ]
  },
  {
   "cell_type": "code",
   "execution_count": 28,
   "metadata": {},
   "outputs": [
    {
     "data": {
      "text/plain": [
       "-1.0"
      ]
     },
     "execution_count": 28,
     "metadata": {},
     "output_type": "execute_result"
    }
   ],
   "source": [
    "# negative sentiment represented by negative score\n",
    "negative = TextBlob('Klay thompson is so bad bro. How do you shoot 4/19 as a splash brother?!!!').sentiment.polarity\n",
    "negative"
   ]
  },
  {
   "cell_type": "markdown",
   "metadata": {},
   "source": [
    "**Positive Sentiment**\n",
    "\n",
    "Vice versa for opposite case:"
   ]
  },
  {
   "cell_type": "code",
   "execution_count": 29,
   "metadata": {},
   "outputs": [
    {
     "data": {
      "text/plain": [
       "0.4"
      ]
     },
     "execution_count": 29,
     "metadata": {},
     "output_type": "execute_result"
    }
   ],
   "source": [
    "# Positive sentiment represented by positive score\n",
    "positive = TextBlob('The Celtics are not shooting like that again. I have faith in our warriors that they will win the next 3 games!').sentiment.polarity\n",
    "positive"
   ]
  },
  {
   "cell_type": "markdown",
   "metadata": {},
   "source": [
    "**Compiling Sentiment**\n",
    "\n",
    "As an example we can write a function that will append sentiments to an array and then compute statistical analysis for it using numpy. "
   ]
  },
  {
   "cell_type": "code",
   "execution_count": 30,
   "metadata": {},
   "outputs": [],
   "source": [
    "import numpy as np"
   ]
  },
  {
   "cell_type": "code",
   "execution_count": 62,
   "metadata": {},
   "outputs": [],
   "source": [
    "# general defined functions\n",
    "def textBlob(tweets):\n",
    "    tweets['Score'] = tweets['Tweet'].apply(lambda x:TextBlob(x).sentiment.polarity).values\n",
    "    return print(tweets)\n",
    "\n",
    "def compile_sentiment(tweets):\n",
    "    mean_sentiment = np.mean(tweets['Score'])\n",
    "    std_sentiment = np.std(tweets['Score'])\n",
    "    sample_sentiment = (mean_sentiment, std_sentiment)\n",
    "    print('Mean, Standard Deviation:')\n",
    "    return mean_sentiment, std_sentiment"
   ]
  },
  {
   "cell_type": "code",
   "execution_count": 65,
   "metadata": {},
   "outputs": [
    {
     "data": {
      "text/html": [
       "<div>\n",
       "<style scoped>\n",
       "    .dataframe tbody tr th:only-of-type {\n",
       "        vertical-align: middle;\n",
       "    }\n",
       "\n",
       "    .dataframe tbody tr th {\n",
       "        vertical-align: top;\n",
       "    }\n",
       "\n",
       "    .dataframe thead th {\n",
       "        text-align: right;\n",
       "    }\n",
       "</style>\n",
       "<table border=\"1\" class=\"dataframe\">\n",
       "  <thead>\n",
       "    <tr style=\"text-align: right;\">\n",
       "      <th></th>\n",
       "      <th>Tweet</th>\n",
       "    </tr>\n",
       "  </thead>\n",
       "  <tbody>\n",
       "    <tr>\n",
       "      <th>0</th>\n",
       "      <td>The Celtics are not shooting like that again. ...</td>\n",
       "    </tr>\n",
       "    <tr>\n",
       "      <th>1</th>\n",
       "      <td>Celtics are horrible</td>\n",
       "    </tr>\n",
       "    <tr>\n",
       "      <th>2</th>\n",
       "      <td>Celtics got destroyed by Kobe</td>\n",
       "    </tr>\n",
       "  </tbody>\n",
       "</table>\n",
       "</div>"
      ],
      "text/plain": [
       "                                               Tweet\n",
       "0  The Celtics are not shooting like that again. ...\n",
       "1                               Celtics are horrible\n",
       "2                      Celtics got destroyed by Kobe"
      ]
     },
     "execution_count": 65,
     "metadata": {},
     "output_type": "execute_result"
    }
   ],
   "source": [
    "# hardcoded input for our specific example\n",
    "sample_texts = pd.DataFrame(['The Celtics are not shooting like that again. I have faith in our warriors that they will win the next 3 games!', \n",
    "    'Celtics are horrible', \n",
    "    'Celtics got destroyed by Kobe',\n",
    "    'Celtics going to lose again',\n",
    "    'Warriors going to win this year!',\n",
    "    'Golden state is so much better',\n",
    "    'Steph curry is the best shooter, they will win',\n",
    "    'Klay thompson is in a shooting slump. He will not recover'\n",
    "    ])\n",
    "sample_texts.rename(columns={0:'Tweet'}, inplace=True)\n",
    "sample_texts.head(3)"
   ]
  },
  {
   "cell_type": "code",
   "execution_count": 66,
   "metadata": {},
   "outputs": [
    {
     "name": "stdout",
     "output_type": "stream",
     "text": [
      "                                               Tweet  Score\n",
      "0  The Celtics are not shooting like that again. ...    0.4\n",
      "1                               Celtics are horrible   -1.0\n",
      "2                      Celtics got destroyed by Kobe    0.0\n",
      "3                        Celtics going to lose again    0.0\n",
      "4                   Warriors going to win this year!    1.0\n",
      "5                     Golden state is so much better    0.4\n",
      "6     Steph curry is the best shooter, they will win    0.9\n",
      "7  Klay thompson is in a shooting slump. He will ...    0.0\n",
      "\n",
      "\n",
      "Mean, Standard Deviation:\n"
     ]
    },
    {
     "data": {
      "text/plain": [
       "(0.21249999999999997, 0.5882973312875046)"
      ]
     },
     "execution_count": 66,
     "metadata": {},
     "output_type": "execute_result"
    }
   ],
   "source": [
    "textBlob(sample_texts)\n",
    "print('\\n')\n",
    "compile_sentiment(sample_texts)"
   ]
  },
  {
   "cell_type": "markdown",
   "metadata": {},
   "source": [
    "**We will now perform this action on our actual dataset**"
   ]
  },
  {
   "cell_type": "code",
   "execution_count": 67,
   "metadata": {},
   "outputs": [
    {
     "name": "stdout",
     "output_type": "stream",
     "text": [
      "                          Date Location             User  \\\n",
      "0    2022-06-05 22:16:47+00:00      NaN    RoseSportsPod   \n",
      "1    2022-06-05 22:16:19+00:00      NaN      davemcswain   \n",
      "2    2022-06-05 22:15:25+00:00      NaN      CCSports305   \n",
      "3    2022-06-05 22:14:20+00:00      NaN      nickvaughn1   \n",
      "4    2022-06-05 22:11:23+00:00      NaN  marcelinhofella   \n",
      "..                         ...      ...              ...   \n",
      "995  2022-06-03 17:32:54+00:00      NaN     FOE5frmdaRAQ   \n",
      "996  2022-06-03 17:29:48+00:00      NaN      PCwarrior69   \n",
      "997  2022-06-03 17:28:41+00:00      NaN    thejoelwright   \n",
      "998  2022-06-03 17:27:36+00:00      NaN     TheRocketGuy   \n",
      "999  2022-06-03 17:26:18+00:00      NaN     PeteyWeeStro   \n",
      "\n",
      "                                                 Tweet     Score  \n",
      "0    Warriors Andre Iguodala is out for Game 2 vs  ... -0.400000  \n",
      "1    Draymond said golden state dominated the first...  0.158889  \n",
      "2    Warriors Over  214 pts   MCP305  lt    donate ...  0.000000  \n",
      "3    If we win tonight issa wrap    AllAbout18   Ce...  0.800000  \n",
      "4    Logo  Celtics                  NBAnaESPN  NBAF...  0.000000  \n",
      "..                                                 ...       ...  \n",
      "995   celtics  NBAFinals  AllAbout18 get me too a g...  0.180000  \n",
      "996  Did the  Celtics win the NBA Championship last...  0.400000  \n",
      "997   JalenHarper10  DSmith3623 ur king had 12 poin...  0.000000  \n",
      "998   davidjsmith1232 If you scroll down my timelin...  0.248148  \n",
      "999  I love seeing Warriors fan squirm you wanna kn...  0.000000  \n",
      "\n",
      "[1000 rows x 5 columns]\n",
      "\n",
      "\n",
      "Mean, Standard Deviation:\n"
     ]
    },
    {
     "data": {
      "text/plain": [
       "(0.06898933577225244, 0.3126198340932978)"
      ]
     },
     "execution_count": 67,
     "metadata": {},
     "output_type": "execute_result"
    }
   ],
   "source": [
    "textBlob(tweets)\n",
    "print('\\n')\n",
    "compile_sentiment(tweets)"
   ]
  },
  {
   "cell_type": "code",
   "execution_count": 76,
   "metadata": {},
   "outputs": [
    {
     "data": {
      "text/plain": [
       "Text(0.5, 1.0, 'Distribution of Tweet Polarity')"
      ]
     },
     "execution_count": 76,
     "metadata": {},
     "output_type": "execute_result"
    },
    {
     "data": {
      "image/png": "[encoded data removed]",
      "text/plain": [
       "<Figure size 432x288 with 1 Axes>"
      ]
     },
     "metadata": {
      "needs_background": "light"
     },
     "output_type": "display_data"
    }
   ],
   "source": [
    "sns.histplot(data=tweets, x = 'Score')\n",
    "plt.title('Distribution of Tweet Polarity')"
   ]
  },
  {
   "cell_type": "code",
   "execution_count": 84,
   "metadata": {},
   "outputs": [
    {
     "name": "stderr",
     "output_type": "stream",
     "text": [
      "/home/nateackerman/.local/lib/python3.8/site-packages/seaborn/distributions.py:2619: FutureWarning: `distplot` is a deprecated function and will be removed in a future version. Please adapt your code to use either `displot` (a figure-level function with similar flexibility) or `histplot` (an axes-level function for histograms).\n",
      "  warnings.warn(msg, FutureWarning)\n"
     ]
    },
    {
     "data": {
      "text/plain": [
       "<AxesSubplot:xlabel='Score', ylabel='Density'>"
      ]
     },
     "execution_count": 84,
     "metadata": {},
     "output_type": "execute_result"
    },
    {
     "data": {
      "image/png": "[encoded data removed]",
      "text/plain": [
       "<Figure size 432x288 with 1 Axes>"
      ]
     },
     "metadata": {
      "needs_background": "light"
     },
     "output_type": "display_data"
    }
   ],
   "source": [
    "sns.distplot(tweets['Score'], color='b')"
   ]
  },
  {
   "cell_type": "markdown",
   "metadata": {},
   "source": [
    "As we can see, about 30% of ouur tweets tend to be neutral in polarity, meaning they are neither very positive or very negative. In addition, the distribution is centered at 0; if our bell curve was shifted right or left, we would be able to conclude that there was some polarity in the tweets collected. However based on our tweets dataset, there are no significant findings that suggest NBA fans are biased extremely positively or negatively towards this NBA Finals"
   ]
  },
  {
   "cell_type": "markdown",
   "metadata": {},
   "source": [
    "**Considering the Warriors have just won the NBA Championship yesterday, a continuation of this project would be to scrape more tweets from 6/16 - 6/21 (day after Warriors Parade) to see if NBA fans are significantly positive/negative towards this result**"
   ]
  }
 ],
 "metadata": {
  "interpreter": {
   "hash": "916dbcbb3f70747c44a77c7bcd40155683ae19c65e1c03b4aa3499c5328201f1"
  },
  "kernelspec": {
   "display_name": "Python 3.8.5 64-bit",
   "language": "python",
   "name": "python3"
  },
  "language_info": {
   "codemirror_mode": {
    "name": "ipython",
    "version": 3
   },
   "file_extension": ".py",
   "mimetype": "text/x-python",
   "name": "python",
   "nbconvert_exporter": "python",
   "pygments_lexer": "ipython3",
   "version": "3.8.5"
  },
  "orig_nbformat": 4
 },
 "nbformat": 4,
 "nbformat_minor": 2
}
