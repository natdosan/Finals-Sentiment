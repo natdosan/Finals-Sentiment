{
 "cells": [
  {
   "cell_type": "markdown",
   "metadata": {},
   "source": [
    "**NBA Finals 2022 Public Sentiment Via Twitter**\n",
    "\n",
    "*inspired by Ingried Chen https://deepnote.com/workspace/ingridchien-808582f2-246e-43c1-8f01-b7edcdc9cdd6/project/CovidVaccine-Sentiment-and-Trends-of-Worldwide-Vaccine-Tweets-69d5b63d-d232-4491-8850-712a7361114b/%2Fnotebook.ipynb*\n",
    "\n",
    "The NBA Finals are currently underway, and have driven a lot of hype around the potential return to power of the Warriors dynasty versus a young, talented, and hungry Boston squad. \n",
    "Whether you are a fan of either team, or a fan of a team who is currently watching from Cancun, have you ever wondered how your opinion compares to that of others? \n",
    "Using textblob, we can better understand public sentiment on this ongoing series.        "
   ]
  },
  {
   "cell_type": "markdown",
   "metadata": {},
   "source": [
    "**Import Libraries**"
   ]
  },
  {
   "cell_type": "code",
   "execution_count": 22,
   "metadata": {},
   "outputs": [],
   "source": [
    "import pandas as pd\n",
    "import seaborn as sns\n",
    "import matplotlib.pyplot as plt\n",
    "import re\n",
    "from textblob import TextBlob"
   ]
  },
  {
   "cell_type": "markdown",
   "metadata": {},
   "source": [
    "**Read, Clean, and Preview Our Data**"
   ]
  },
  {
   "cell_type": "code",
   "execution_count": 23,
   "metadata": {},
   "outputs": [
    {
     "name": "stdout",
     "output_type": "stream",
     "text": [
      "Index(['Date', 'Location', 'User', 'Tweet'], dtype='object')                         Date Location             User  \\\n",
      "0  2022-06-05 22:16:47+00:00      NaN    RoseSportsPod   \n",
      "1  2022-06-05 22:16:19+00:00      NaN      davemcswain   \n",
      "2  2022-06-05 22:15:25+00:00      NaN      CCSports305   \n",
      "3  2022-06-05 22:14:20+00:00      NaN      nickvaughn1   \n",
      "4  2022-06-05 22:11:23+00:00      NaN  marcelinhofella   \n",
      "5  2022-06-05 22:11:14+00:00      NaN       borocapper   \n",
      "\n",
      "                                               Tweet  \n",
      "0  Warriors Andre Iguodala is out for Game 2 vs. ...  \n",
      "1  Draymond said golden state dominated the first...  \n",
      "2  Warriors+Over (214 pts)\\n$MCP305 &lt;---donate...  \n",
      "3  If we win tonight issa wrap.. #AllAbout18  #Ce...  \n",
      "4  Logo! Celtics! ☘️☘️💚💚💪💪💪🙏🙏🙌\\n\\n #NBAnaESPN #NB...  \n",
      "5  Sunday \\n#NBAFinals \\nWarriors -4.5\\n\\nJordan ...  \n"
     ]
    }
   ],
   "source": [
    "tweets = pd.read_csv('tweets/tweets.csv')\n",
    "tweets.drop(columns='Unnamed: 0', inplace=True, axis=1)\n",
    "print(tweets.columns, tweets.head(6))"
   ]
  },
  {
   "cell_type": "markdown",
   "metadata": {},
   "source": [
    "Let's see how many tweets we have compiled in our dataset"
   ]
  },
  {
   "cell_type": "code",
   "execution_count": 24,
   "metadata": {},
   "outputs": [
    {
     "data": {
      "text/plain": [
       "(1000, 4)"
      ]
     },
     "execution_count": 24,
     "metadata": {},
     "output_type": "execute_result"
    }
   ],
   "source": [
    "tweets.shape"
   ]
  },
  {
   "cell_type": "markdown",
   "metadata": {},
   "source": [
    "**Exploratory Analysis**\n",
    "\n",
    "Let's also see when the most popular time to tweet is. The current dataset was scraped hours before game 2 of the NBA Finals, so my hypothesis is that right before/after/during the games will be when people tweet the most because they are in a very volatile and reactionary mood. \n",
    "\n",
    "Today is 6/5, so most tweets will be from 6/5. Another variable to take into account is if an event has just happened, your tweets may all be sorted by recent postings."
   ]
  },
  {
   "cell_type": "code",
   "execution_count": 25,
   "metadata": {},
   "outputs": [
    {
     "data": {
      "text/html": [
       "<div>\n",
       "<style scoped>\n",
       "    .dataframe tbody tr th:only-of-type {\n",
       "        vertical-align: middle;\n",
       "    }\n",
       "\n",
       "    .dataframe tbody tr th {\n",
       "        vertical-align: top;\n",
       "    }\n",
       "\n",
       "    .dataframe thead th {\n",
       "        text-align: right;\n",
       "    }\n",
       "</style>\n",
       "<table border=\"1\" class=\"dataframe\">\n",
       "  <thead>\n",
       "    <tr style=\"text-align: right;\">\n",
       "      <th></th>\n",
       "      <th>Date</th>\n",
       "      <th>count</th>\n",
       "    </tr>\n",
       "  </thead>\n",
       "  <tbody>\n",
       "    <tr>\n",
       "      <th>536</th>\n",
       "      <td>2022-06-05 07:20:37+00:00</td>\n",
       "      <td>3</td>\n",
       "    </tr>\n",
       "    <tr>\n",
       "      <th>537</th>\n",
       "      <td>2022-06-05 07:20:38+00:00</td>\n",
       "      <td>3</td>\n",
       "    </tr>\n",
       "    <tr>\n",
       "      <th>979</th>\n",
       "      <td>2022-06-05 22:04:15+00:00</td>\n",
       "      <td>2</td>\n",
       "    </tr>\n",
       "    <tr>\n",
       "      <th>511</th>\n",
       "      <td>2022-06-05 04:29:36+00:00</td>\n",
       "      <td>2</td>\n",
       "    </tr>\n",
       "    <tr>\n",
       "      <th>0</th>\n",
       "      <td>2022-06-03 17:26:18+00:00</td>\n",
       "      <td>1</td>\n",
       "    </tr>\n",
       "    <tr>\n",
       "      <th>663</th>\n",
       "      <td>2022-06-05 14:30:15+00:00</td>\n",
       "      <td>1</td>\n",
       "    </tr>\n",
       "    <tr>\n",
       "      <th>666</th>\n",
       "      <td>2022-06-05 14:36:57+00:00</td>\n",
       "      <td>1</td>\n",
       "    </tr>\n",
       "    <tr>\n",
       "      <th>665</th>\n",
       "      <td>2022-06-05 14:34:06+00:00</td>\n",
       "      <td>1</td>\n",
       "    </tr>\n",
       "    <tr>\n",
       "      <th>664</th>\n",
       "      <td>2022-06-05 14:33:10+00:00</td>\n",
       "      <td>1</td>\n",
       "    </tr>\n",
       "    <tr>\n",
       "      <th>661</th>\n",
       "      <td>2022-06-05 14:29:12+00:00</td>\n",
       "      <td>1</td>\n",
       "    </tr>\n",
       "  </tbody>\n",
       "</table>\n",
       "</div>"
      ],
      "text/plain": [
       "                          Date  count\n",
       "536  2022-06-05 07:20:37+00:00      3\n",
       "537  2022-06-05 07:20:38+00:00      3\n",
       "979  2022-06-05 22:04:15+00:00      2\n",
       "511  2022-06-05 04:29:36+00:00      2\n",
       "0    2022-06-03 17:26:18+00:00      1\n",
       "663  2022-06-05 14:30:15+00:00      1\n",
       "666  2022-06-05 14:36:57+00:00      1\n",
       "665  2022-06-05 14:34:06+00:00      1\n",
       "664  2022-06-05 14:33:10+00:00      1\n",
       "661  2022-06-05 14:29:12+00:00      1"
      ]
     },
     "execution_count": 25,
     "metadata": {},
     "output_type": "execute_result"
    }
   ],
   "source": [
    "count = tweets.groupby('Date').size().to_frame().reset_index().rename(columns = {0:'count'})\n",
    "most_frequent_times = count.sort_values(by='count', ascending=False).head(10)\n",
    "most_frequent_times.head(20)"
   ]
  },
  {
   "cell_type": "markdown",
   "metadata": {},
   "source": []
  }
 ],
 "metadata": {
  "interpreter": {
   "hash": "916dbcbb3f70747c44a77c7bcd40155683ae19c65e1c03b4aa3499c5328201f1"
  },
  "kernelspec": {
   "display_name": "Python 3.8.5 64-bit",
   "language": "python",
   "name": "python3"
  },
  "language_info": {
   "codemirror_mode": {
    "name": "ipython",
    "version": 3
   },
   "file_extension": ".py",
   "mimetype": "text/x-python",
   "name": "python",
   "nbconvert_exporter": "python",
   "pygments_lexer": "ipython3",
   "version": "3.8.5"
  },
  "orig_nbformat": 4
 },
 "nbformat": 4,
 "nbformat_minor": 2
}
