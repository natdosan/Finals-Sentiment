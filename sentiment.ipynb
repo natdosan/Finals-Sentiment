{
 "cells": [
  {
   "cell_type": "markdown",
   "metadata": {},
   "source": [
    "**NBA Finals 2022 Public Sentiment Via Twitter**\n",
    "\n",
    "*inspired by Ingried Chen https://deepnote.com/workspace/ingridchien-808582f2-246e-43c1-8f01-b7edcdc9cdd6/project/CovidVaccine-Sentiment-and-Trends-of-Worldwide-Vaccine-Tweets-69d5b63d-d232-4491-8850-712a7361114b/%2Fnotebook.ipynb*\n",
    "\n",
    "The NBA Finals are currently underway, and have driven a lot of hype around the potential return to power of the Warriors dynasty versus a young, talented, and hungry Boston squad. \n",
    "Whether you are a fan of either team, or a fan of a team who is currently watching from Cancun, have you ever wondered how your opinion compares to that of others? \n",
    "Using textblob, we can better understand public sentiment on this ongoing series.        "
   ]
  },
  {
   "cell_type": "markdown",
   "metadata": {},
   "source": []
  },
  {
   "cell_type": "code",
   "execution_count": null,
   "metadata": {},
   "outputs": [],
   "source": []
  }
 ],
 "metadata": {
  "language_info": {
   "name": "python"
  },
  "orig_nbformat": 4
 },
 "nbformat": 4,
 "nbformat_minor": 2
}
